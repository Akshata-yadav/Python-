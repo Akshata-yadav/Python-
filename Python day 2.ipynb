{
 "cells": [
  {
   "cell_type": "code",
   "execution_count": 1,
   "id": "76ecdef5",
   "metadata": {},
   "outputs": [
    {
     "name": "stdout",
     "output_type": "stream",
     "text": [
      "Enter the first number12\n",
      "Enter the second number12\n",
      "144\n"
     ]
    }
   ],
   "source": [
    "#Accept numbers from a user\n",
    "num1 = int(input(\"Enter the first number\"))\n",
    "num2 = int(input(\"Enter the second number\"))\n",
    "user_num = num1*num2\n",
    "print(user_num)"
   ]
  },
  {
   "cell_type": "code",
   "execution_count": 3,
   "id": "d66916c9",
   "metadata": {},
   "outputs": [
    {
     "name": "stdout",
     "output_type": "stream",
     "text": [
      "Name**Is**James\n"
     ]
    }
   ],
   "source": [
    "#Display three string “Name”, “Is”, “James” as “Name**Is**James”\n",
    "print(\"Name\",\"Is\",\"James\" , sep = \"**\")\n"
   ]
  },
  {
   "cell_type": "code",
   "execution_count": 8,
   "id": "07ebe0fd",
   "metadata": {},
   "outputs": [
    {
     "name": "stdout",
     "output_type": "stream",
     "text": [
      "10\n"
     ]
    }
   ],
   "source": [
    "#Convert Decimal number to octal using print() output formatting\n",
    "num = 8\n",
    "print('%o' % num)"
   ]
  },
  {
   "cell_type": "code",
   "execution_count": 10,
   "id": "cda167a4",
   "metadata": {},
   "outputs": [
    {
     "name": "stdout",
     "output_type": "stream",
     "text": [
      "123.57\n"
     ]
    }
   ],
   "source": [
    "#Display float number with 2 decimal places using print()\n",
    "num = 123.567\n",
    "print('%.2f' % num)"
   ]
  },
  {
   "cell_type": "code",
   "execution_count": 1,
   "id": "99e36af2",
   "metadata": {},
   "outputs": [
    {
     "name": "stdout",
     "output_type": "stream",
     "text": [
      "0\n",
      "12.1\n",
      "1\n",
      "12.4\n",
      "2\n",
      "12.5\n",
      "3\n",
      "123.45\n",
      "4\n",
      "123.89\n",
      "[12.1, 12.4, 12.5, 123.45, 123.89]\n"
     ]
    }
   ],
   "source": [
    "#Accept a list of 5 float numbers as an input from the user\n",
    "num =[]\n",
    "for i in range(0,5):\n",
    "    print(i)\n",
    "    item = float(input())\n",
    "    num.append(item)\n",
    "print(num)\n"
   ]
  },
  {
   "cell_type": "code",
   "execution_count": 7,
   "id": "7843cce6",
   "metadata": {},
   "outputs": [
    {
     "name": "stdout",
     "output_type": "stream",
     "text": [
      "Enter the string1akshata\n",
      "Enter the string2aman\n",
      "Enter the string3mahir\n",
      "Name1: akshata\n",
      "Name2: aman\n",
      "Name3: mahir\n"
     ]
    }
   ],
   "source": [
    "#Accept any three string from one input() call\n",
    "data1 = input(\"Enter the string1\")\n",
    "data2 = input(\"Enter the string2\")\n",
    "data3 = input(\"Enter the string3\")\n",
    "print(\"Name1:\", data1)\n",
    "print(\"Name2:\" , data2)\n",
    "print(\"Name3:\" ,data3)"
   ]
  },
  {
   "cell_type": "code",
   "execution_count": 9,
   "id": "b6ab4b0e",
   "metadata": {},
   "outputs": [
    {
     "name": "stdout",
     "output_type": "stream",
     "text": [
      "I have 1000 dollar to buy 3 football for 450 dollars\n"
     ]
    }
   ],
   "source": [
    "#Format variables using a string.format() method.\n",
    "quantity = 3\n",
    "totalMoney = 1000\n",
    "price = 450\n",
    "statement = \"I have {1} dollar to buy {0} football for {2} dollars\"\n",
    "print(statement.format(quantity,totalMoney,price))"
   ]
  },
  {
   "cell_type": "code",
   "execution_count": 11,
   "id": "dba0ce68",
   "metadata": {},
   "outputs": [
    {
     "name": "stdout",
     "output_type": "stream",
     "text": [
      "file is empty\n"
     ]
    }
   ],
   "source": [
    "#Check file is empty or not\n",
    "import os \n",
    "size = os.stat(\"test.txt\").st_size\n",
    "if(size == 0):\n",
    "    print(\"file is empty\")"
   ]
  },
  {
   "cell_type": "code",
   "execution_count": 16,
   "id": "7154c8d0",
   "metadata": {},
   "outputs": [],
   "source": [
    "#Read line number 4 from the following file\n",
    "f = open(\"test1.txt\" , \"r\")\n",
    "f.readlines(4)\n",
    "f.close()"
   ]
  }
 ],
 "metadata": {
  "kernelspec": {
   "display_name": "Python 3 (ipykernel)",
   "language": "python",
   "name": "python3"
  },
  "language_info": {
   "codemirror_mode": {
    "name": "ipython",
    "version": 3
   },
   "file_extension": ".py",
   "mimetype": "text/x-python",
   "name": "python",
   "nbconvert_exporter": "python",
   "pygments_lexer": "ipython3",
   "version": "3.11.3"
  }
 },
 "nbformat": 4,
 "nbformat_minor": 5
}
