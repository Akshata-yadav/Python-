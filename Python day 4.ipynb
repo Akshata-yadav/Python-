{
 "cells": [
  {
   "cell_type": "code",
   "execution_count": 4,
   "id": "a835095a",
   "metadata": {},
   "outputs": [],
   "source": [
    "#Write a program to create a function that takes two arguments, name and age, and print their value.\n",
    "def data(name , age):\n",
    "    return name , age"
   ]
  },
  {
   "cell_type": "code",
   "execution_count": 5,
   "id": "a53863c7",
   "metadata": {},
   "outputs": [
    {
     "data": {
      "text/plain": [
       "('Akshata', 22)"
      ]
     },
     "execution_count": 5,
     "metadata": {},
     "output_type": "execute_result"
    }
   ],
   "source": [
    "data(\"Akshata\" , 22)"
   ]
  },
  {
   "cell_type": "code",
   "execution_count": 9,
   "id": "e4a31cab",
   "metadata": {},
   "outputs": [],
   "source": [
    "#Write a program to create function func1() to accept a variable length of arguments and print their value.\n",
    "def func1(*args):\n",
    "    for i in args:\n",
    "        print(i)"
   ]
  },
  {
   "cell_type": "code",
   "execution_count": 12,
   "id": "e8460900",
   "metadata": {},
   "outputs": [
    {
     "name": "stdout",
     "output_type": "stream",
     "text": [
      "100\n",
      "200\n",
      "56\n",
      "78\n"
     ]
    }
   ],
   "source": [
    "func1(100,200)\n",
    "func1(56,78)"
   ]
  },
  {
   "cell_type": "code",
   "execution_count": 18,
   "id": "094d21a5",
   "metadata": {},
   "outputs": [],
   "source": [
    "#Write a program to create function calculation() such that it can accept two variables and calculate addition and subtraction.\n",
    "#Also, it must return both addition and subtraction in a single return call.\n",
    "def calculation(a,b):\n",
    "    c = a + b\n",
    "    d = a - b\n",
    "    print(c)  \n",
    "    print(d)"
   ]
  },
  {
   "cell_type": "code",
   "execution_count": 19,
   "id": "8f195907",
   "metadata": {},
   "outputs": [
    {
     "name": "stdout",
     "output_type": "stream",
     "text": [
      "35\n",
      "-11\n"
     ]
    }
   ],
   "source": [
    "calculation(12,23)"
   ]
  },
  {
   "cell_type": "code",
   "execution_count": 24,
   "id": "9a73f06e",
   "metadata": {},
   "outputs": [],
   "source": [
    "#Create a function with a default argument\n",
    "def show_employee(name , salary = 9000):\n",
    "    return name , salary"
   ]
  },
  {
   "cell_type": "code",
   "execution_count": 25,
   "id": "93dc44ee",
   "metadata": {},
   "outputs": [
    {
     "data": {
      "text/plain": [
       "('akshata', 9000)"
      ]
     },
     "execution_count": 25,
     "metadata": {},
     "output_type": "execute_result"
    }
   ],
   "source": [
    "show_employee(\"akshata\")"
   ]
  },
  {
   "cell_type": "code",
   "execution_count": 27,
   "id": "6d3826b6",
   "metadata": {},
   "outputs": [
    {
     "data": {
      "text/plain": [
       "('aman', 8900)"
      ]
     },
     "execution_count": 27,
     "metadata": {},
     "output_type": "execute_result"
    }
   ],
   "source": [
    "show_employee(\"aman\" , 8900)"
   ]
  },
  {
   "cell_type": "code",
   "execution_count": 29,
   "id": "b6223886",
   "metadata": {},
   "outputs": [
    {
     "name": "stdout",
     "output_type": "stream",
     "text": [
      "28\n"
     ]
    }
   ],
   "source": [
    "#Write a program to create a recursive function to calculate the sum of numbers from 0 to 10.\n",
    "def addition(num):\n",
    "    if num:\n",
    "        return num + addition(num-1)\n",
    "    else:\n",
    "        return 0\n",
    "res = addition(7)\n",
    "print(res)"
   ]
  },
  {
   "cell_type": "code",
   "execution_count": 30,
   "id": "954e5821",
   "metadata": {},
   "outputs": [],
   "source": [
    "#Assign a different name to function and call it through the new name\n",
    "def display_student(name, age):\n",
    "    return name , age"
   ]
  },
  {
   "cell_type": "code",
   "execution_count": 31,
   "id": "6210c114",
   "metadata": {},
   "outputs": [
    {
     "data": {
      "text/plain": [
       "('akshata', 34)"
      ]
     },
     "execution_count": 31,
     "metadata": {},
     "output_type": "execute_result"
    }
   ],
   "source": [
    "display_student(\"akshata\", 34)"
   ]
  },
  {
   "cell_type": "code",
   "execution_count": 32,
   "id": "506516c2",
   "metadata": {},
   "outputs": [],
   "source": [
    "show_student = display_student"
   ]
  },
  {
   "cell_type": "code",
   "execution_count": 34,
   "id": "97046523",
   "metadata": {},
   "outputs": [
    {
     "data": {
      "text/plain": [
       "('emma', 45)"
      ]
     },
     "execution_count": 34,
     "metadata": {},
     "output_type": "execute_result"
    }
   ],
   "source": [
    "show_student('emma', 45)"
   ]
  },
  {
   "cell_type": "code",
   "execution_count": 1,
   "id": "72759c9d",
   "metadata": {},
   "outputs": [
    {
     "name": "stdout",
     "output_type": "stream",
     "text": [
      "[4, 6, 8, 10, 12, 14, 16, 18, 20, 22, 24, 26, 28, 30]\n"
     ]
    }
   ],
   "source": [
    "#Generate a Python list of all the even numbers between 4 to 30\n",
    "print(list(range(4,31,2)))"
   ]
  },
  {
   "cell_type": "code",
   "execution_count": 2,
   "id": "121fb41c",
   "metadata": {},
   "outputs": [
    {
     "data": {
      "text/plain": [
       "7890"
      ]
     },
     "execution_count": 2,
     "metadata": {},
     "output_type": "execute_result"
    }
   ],
   "source": [
    "#Find the largest item from a given list\n",
    "l = [1,2,3,4,45,67,7890]\n",
    "max(l)"
   ]
  },
  {
   "cell_type": "code",
   "execution_count": null,
   "id": "1e1c9a35",
   "metadata": {},
   "outputs": [],
   "source": []
  }
 ],
 "metadata": {
  "kernelspec": {
   "display_name": "Python 3 (ipykernel)",
   "language": "python",
   "name": "python3"
  },
  "language_info": {
   "codemirror_mode": {
    "name": "ipython",
    "version": 3
   },
   "file_extension": ".py",
   "mimetype": "text/x-python",
   "name": "python",
   "nbconvert_exporter": "python",
   "pygments_lexer": "ipython3",
   "version": "3.11.3"
  }
 },
 "nbformat": 4,
 "nbformat_minor": 5
}
