{
 "cells": [
  {
   "cell_type": "code",
   "execution_count": 4,
   "id": "0fc18f23",
   "metadata": {},
   "outputs": [
    {
     "name": "stdout",
     "output_type": "stream",
     "text": [
      "Original string is Akshata\n",
      "new string Aha\n"
     ]
    }
   ],
   "source": [
    "#Write a program to create a new string made of an input string’s first, middle, and last character.\n",
    "str1 = \"Akshata\"\n",
    "print(\"Original string is\", str1)\n",
    "res = str1[0]\n",
    "l = len(str1)\n",
    "middle = int(l/2)\n",
    "res = res + str1[middle]\n",
    "res = res + str1[l - 1]\n",
    "print(\"new string\" , res)"
   ]
  },
  {
   "cell_type": "code",
   "execution_count": 5,
   "id": "cff88645",
   "metadata": {},
   "outputs": [
    {
     "name": "stdout",
     "output_type": "stream",
     "text": [
      "original string is akshata\n",
      "sha\n"
     ]
    }
   ],
   "source": [
    "#Write a program to create a new string made of the middle three characters of an input string.\n",
    "str1 = \"akshata\"\n",
    "print(\"original string is\" , str1)\n",
    "mi = int(len(str1) / 2)\n",
    "res = str1[mi - 1:mi + 2]\n",
    "print(res)"
   ]
  },
  {
   "cell_type": "code",
   "execution_count": 8,
   "id": "8d1fbc99",
   "metadata": {},
   "outputs": [
    {
     "name": "stdout",
     "output_type": "stream",
     "text": [
      "kstaAHA\n"
     ]
    }
   ],
   "source": [
    "# Arrange string characters such that lowercase letters should come first\n",
    "str1 = \"AksHAta\"\n",
    "lower = []\n",
    "upper = []\n",
    "for char in str1:\n",
    "    if char.islower():\n",
    "        lower.append(char)\n",
    "    if char.isupper():\n",
    "        upper.append(char)\n",
    "sorted_list = ''.join(lower + upper)\n",
    "print(sorted_list)"
   ]
  },
  {
   "cell_type": "code",
   "execution_count": 15,
   "id": "b48b62e1",
   "metadata": {},
   "outputs": [
    {
     "name": "stdout",
     "output_type": "stream",
     "text": [
      "Chars = 3 Digits = 4 Symbol = 3\n"
     ]
    }
   ],
   "source": [
    "#Count all letters, digits, and special symbols from a given string\n",
    "def find_letter_digits_specialsymbols(sample_str):\n",
    "    count_letter = 0\n",
    "    count_digit = 0\n",
    "    count_specialsymbols = 0\n",
    "    for char in sample_str:\n",
    "        if char.isalpha():\n",
    "            count_letter += 1\n",
    "        elif char.isdigit():\n",
    "            count_digit += 1\n",
    "        else:\n",
    "            count_specialsymbols += 1\n",
    "    print(\"Chars =\", count_letter, \"Digits =\", count_digit, \"Symbol =\", count_specialsymbols)\n",
    "sample_str = \"67hy7%$#3e\"\n",
    "find_letter_digits_specialsymbols(sample_str)"
   ]
  },
  {
   "cell_type": "code",
   "execution_count": 1,
   "id": "ebb4b4e3",
   "metadata": {},
   "outputs": [
    {
     "name": "stdout",
     "output_type": "stream",
     "text": [
      "AvkasdhaaYta\n"
     ]
    }
   ],
   "source": [
    "#Given two strings, s1 and s2. Write a program to create a new string s3 made of the first char of s1, \n",
    "#then the last char of s2, Next, \n",
    "#the second char of s1 and second last char of s2, and so on. Any leftover chars go at the end of the result\n",
    "s1 = \"Akshata\"\n",
    "s2 = \"Yadav\"\n",
    "s1_length = len(s1)\n",
    "s2_length = len(s2)\n",
    "length = s1_length if s1_length > s2_length else s2_length\n",
    "res = \"\"\n",
    "s2 = s2[::-1]\n",
    "for i in range(length):\n",
    "    if i < s1_length:\n",
    "        res = res + s1[i]\n",
    "    if i < s2_length:\n",
    "        res = res + s2[i]\n",
    "print(res)"
   ]
  },
  {
   "cell_type": "code",
   "execution_count": 3,
   "id": "6d6b9da9",
   "metadata": {},
   "outputs": [
    {
     "data": {
      "text/plain": [
       "True"
      ]
     },
     "execution_count": 3,
     "metadata": {},
     "output_type": "execute_result"
    }
   ],
   "source": [
    "#Write a program to check if two strings are balanced.\n",
    "#For example, strings s1 and s2 are balanced if all the characters in the s1 are present in s2.\n",
    "#The character’s position doesn’t matter.\n",
    "def strings_balanced(s1 , s2):\n",
    "    flag = True \n",
    "    for char in s1:\n",
    "        if char in s2:\n",
    "            continue \n",
    "        else:\n",
    "            flag = False\n",
    "    return flag\n",
    "s1 = \"Akshata\"\n",
    "s2 = \"Yadav\"\n",
    "strings_balanced(s1,s2)\n",
    "\n",
    "s1 = \"Akshata\"\n",
    "s2 = \"Akshata\"\n",
    "strings_balanced(s1,s2)"
   ]
  },
  {
   "cell_type": "code",
   "execution_count": 5,
   "id": "93c301e4",
   "metadata": {},
   "outputs": [
    {
     "name": "stdout",
     "output_type": "stream",
     "text": [
      "all occurrences of a substring in a given string 2\n"
     ]
    }
   ],
   "source": [
    "#Find all occurrences of a substring in a given string by ignoring the case\n",
    "str1 = \"Hello world Hello universe\"\n",
    "substr = \"Hello\"\n",
    "temp_str = str1.lower()\n",
    "count = temp_str.count(substr.lower())\n",
    "print(\"all occurrences of a substring in a given string\" , count)"
   ]
  },
  {
   "cell_type": "code",
   "execution_count": 8,
   "id": "8b4d5e00",
   "metadata": {},
   "outputs": [
    {
     "name": "stdout",
     "output_type": "stream",
     "text": [
      "sum is 21 Average is 7.0\n"
     ]
    }
   ],
   "source": [
    "#Given a string s1, write a program to return the sum and average of the digits that appear in the string,\n",
    "#ignoring all other characters.\n",
    "s1 = \"678%%ds\"\n",
    "total = 0\n",
    "count = 0\n",
    "for digit in s1:\n",
    "    if digit.isdigit():\n",
    "        total += int(digit)\n",
    "        count += 1\n",
    "avg = total/count\n",
    "print(\"sum is\" , total, \"Average is\", avg)"
   ]
  },
  {
   "cell_type": "code",
   "execution_count": 9,
   "id": "3e99b431",
   "metadata": {},
   "outputs": [
    {
     "data": {
      "text/plain": [
       "{'A': 1, 'k': 3, 's': 3, 'h': 3, 'a': 6, 't': 2, 'y': 1, 'd': 1}"
      ]
     },
     "execution_count": 9,
     "metadata": {},
     "output_type": "execute_result"
    }
   ],
   "source": [
    "#Write a program to count occurrences of all characters within a string\n",
    "s1 = \"Akshataakshyadaaksht\"\n",
    "result = dict()\n",
    "for char in s1:\n",
    "    count = s1.count(char)\n",
    "    result[char] = count\n",
    "result"
   ]
  },
  {
   "cell_type": "code",
   "execution_count": 10,
   "id": "64d3c286",
   "metadata": {},
   "outputs": [
    {
     "data": {
      "text/plain": [
       "'vadaYatahskA'"
      ]
     },
     "execution_count": 10,
     "metadata": {},
     "output_type": "execute_result"
    }
   ],
   "source": [
    "#Reverse a given string\n",
    "s1 = \"AkshataYadav\"\n",
    "s1[::-1]"
   ]
  },
  {
   "cell_type": "code",
   "execution_count": 11,
   "id": "1b9c5dc2",
   "metadata": {},
   "outputs": [
    {
     "data": {
      "text/plain": [
       "10"
      ]
     },
     "execution_count": 11,
     "metadata": {},
     "output_type": "execute_result"
    }
   ],
   "source": [
    "#Find the last position of a given substring\n",
    "s1 = \"Python is easy to understand\"\n",
    "substr = \"easy\"\n",
    "result = s1.find(\"easy\")\n",
    "result"
   ]
  },
  {
   "cell_type": "code",
   "execution_count": 15,
   "id": "cfa3fd15",
   "metadata": {},
   "outputs": [
    {
     "name": "stdout",
     "output_type": "stream",
     "text": [
      "Emma\n",
      "is\n",
      "a\n",
      "data\n",
      "scientist\n"
     ]
    }
   ],
   "source": [
    "#Split a string on hyphens\n",
    "str1 = \"Emma-is-a-data-scientist\"\n",
    "res = str1.split('-')\n",
    "res\n",
    "for sub in res:\n",
    "    print(sub)"
   ]
  },
  {
   "cell_type": "code",
   "execution_count": 18,
   "id": "449274dd",
   "metadata": {},
   "outputs": [
    {
     "data": {
      "text/plain": [
       "'Jon is developer  musician'"
      ]
     },
     "execution_count": 18,
     "metadata": {},
     "output_type": "execute_result"
    }
   ],
   "source": [
    "#Remove special symbols / punctuation from a string\n",
    "import re\n",
    "str1 = \"/*Jon is @developer & musician\"\n",
    "res = re.sub(r'[^\\w\\s]', '', str1)\n",
    "res"
   ]
  },
  {
   "cell_type": "code",
   "execution_count": 22,
   "id": "87808b62",
   "metadata": {},
   "outputs": [
    {
     "data": {
      "text/plain": [
       "'2510'"
      ]
     },
     "execution_count": 22,
     "metadata": {},
     "output_type": "execute_result"
    }
   ],
   "source": [
    "#Removal all characters from a string except integers\n",
    "str1 = 'I am 25 years and 10 months old'\n",
    "res = ''.join([item for item in str1 if item.isdigit()])\n",
    "res"
   ]
  },
  {
   "cell_type": "code",
   "execution_count": 23,
   "id": "b0ccca6b",
   "metadata": {},
   "outputs": [
    {
     "name": "stdout",
     "output_type": "stream",
     "text": [
      "The original string is : Emma25 is Data scientist50 and AI Expert\n",
      "Displaying words with alphabets and numbers\n",
      "Emma25\n",
      "scientist50\n"
     ]
    }
   ],
   "source": [
    "#Find words with both alphabets and numbers\n",
    "str1 = \"Emma25 is Data scientist50 and AI Expert\"\n",
    "print(\"The original string is : \" + str1)\n",
    "res = []\n",
    "temp = str1.split()\n",
    "for item in temp:\n",
    "    if any(char.isalpha() for char in item) and any(char.isdigit() for char in item):\n",
    "        res.append(item)\n",
    "print(\"Displaying words with alphabets and numbers\")\n",
    "for i in res:\n",
    "    print(i)\n"
   ]
  },
  {
   "cell_type": "code",
   "execution_count": null,
   "id": "1fbd6e6f",
   "metadata": {},
   "outputs": [],
   "source": []
  }
 ],
 "metadata": {
  "kernelspec": {
   "display_name": "Python 3 (ipykernel)",
   "language": "python",
   "name": "python3"
  },
  "language_info": {
   "codemirror_mode": {
    "name": "ipython",
    "version": 3
   },
   "file_extension": ".py",
   "mimetype": "text/x-python",
   "name": "python",
   "nbconvert_exporter": "python",
   "pygments_lexer": "ipython3",
   "version": "3.11.3"
  }
 },
 "nbformat": 4,
 "nbformat_minor": 5
}
