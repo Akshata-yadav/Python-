{
 "cells": [
  {
   "cell_type": "code",
   "execution_count": 6,
   "id": "cc55d13a",
   "metadata": {},
   "outputs": [
    {
     "name": "stdout",
     "output_type": "stream",
     "text": [
      "result is 230\n"
     ]
    }
   ],
   "source": [
    "# Given two integer numbers return their product only if the product is equal to or lower than 1000, else return their sum.\n",
    "def data(num1 , num2):\n",
    "    product = num1*num2\n",
    "    if(product <= 1000):\n",
    "        return product\n",
    "    else:\n",
    "        return num1 + num2\n",
    "result = data(200 ,30)\n",
    "print(\"result is\" , result)\n"
   ]
  },
  {
   "cell_type": "code",
   "execution_count": 10,
   "id": "7d19706b",
   "metadata": {},
   "outputs": [
    {
     "name": "stdout",
     "output_type": "stream",
     "text": [
      "1\n",
      "3\n",
      "5\n",
      "7\n",
      "9\n",
      "11\n",
      "13\n",
      "15\n",
      "17\n",
      "19\n"
     ]
    }
   ],
   "source": [
    "#Print the sum of the current number and the previous number\n",
    "prev_num = 0\n",
    "for i in range(1,11):\n",
    "    sum = prev_num + i\n",
    "    print(sum)\n",
    "    prev_num = i"
   ]
  },
  {
   "cell_type": "code",
   "execution_count": 16,
   "id": "efaafb65",
   "metadata": {},
   "outputs": [
    {
     "name": "stdout",
     "output_type": "stream",
     "text": [
      "Enter the string aman\n",
      "aman\n",
      "a\n",
      "a\n"
     ]
    }
   ],
   "source": [
    "#Print characters from a string that are present at an even index number\n",
    "a = input(\"Enter the string \")\n",
    "print(a)\n",
    "x = list(a)\n",
    "for i in x[0::2]:\n",
    "    print(i)\n"
   ]
  },
  {
   "cell_type": "code",
   "execution_count": 18,
   "id": "17ecdacd",
   "metadata": {},
   "outputs": [
    {
     "name": "stdout",
     "output_type": "stream",
     "text": [
      "akshata\n"
     ]
    },
    {
     "data": {
      "text/plain": [
       "'ata'"
      ]
     },
     "execution_count": 18,
     "metadata": {},
     "output_type": "execute_result"
    }
   ],
   "source": [
    "#Remove first n characters from a string\n",
    "def remove_char(word ,n):\n",
    "    print(word)\n",
    "    x = word[n:]\n",
    "    return x\n",
    "remove_char(\"akshata\" , 4)"
   ]
  },
  {
   "cell_type": "code",
   "execution_count": 21,
   "id": "a5068e0e",
   "metadata": {},
   "outputs": [
    {
     "name": "stdout",
     "output_type": "stream",
     "text": [
      "first and last number of the list is not same\n"
     ]
    }
   ],
   "source": [
    "#Check if the first and last number of a list is the same\n",
    "l = [1,2,3,4,56,1]\n",
    "if (l[1] == l[::-1]):\n",
    "    print(\"first and last number of a list is same\")\n",
    "else:\n",
    "    print(\"first and last number of the list is not same\")"
   ]
  },
  {
   "cell_type": "code",
   "execution_count": 24,
   "id": "c2a10cca",
   "metadata": {},
   "outputs": [
    {
     "name": "stdout",
     "output_type": "stream",
     "text": [
      "Number divisble by 5 in the list 0\n",
      "Number divisble by 5 in the list 5\n",
      "Number divisble by 5 in the list 10\n",
      "Number divisble by 5 in the list 15\n"
     ]
    }
   ],
   "source": [
    "#Display numbers divisible by 5 from a list\n",
    "for i in range(0,20):\n",
    "    if(i%5 == 0):\n",
    "        print(\"Number divisble by 5 in the list\", i)"
   ]
  },
  {
   "cell_type": "code",
   "execution_count": 27,
   "id": "d76fecbb",
   "metadata": {},
   "outputs": [
    {
     "data": {
      "text/plain": [
       "2"
      ]
     },
     "execution_count": 27,
     "metadata": {},
     "output_type": "execute_result"
    }
   ],
   "source": [
    "#Return the count of a given substring from a string\n",
    "str = \"hello world , morning world\"\n",
    "count_str = str.count(\"world\")\n",
    "count_str"
   ]
  },
  {
   "cell_type": "code",
   "execution_count": 30,
   "id": "816ececa",
   "metadata": {},
   "outputs": [
    {
     "name": "stdout",
     "output_type": "stream",
     "text": [
      "\n",
      "\n",
      "1 \n",
      "\n",
      "2 2 \n",
      "\n",
      "3 3 3 \n",
      "\n",
      "4 4 4 4 \n",
      "\n",
      "5 5 5 5 5 \n",
      "\n",
      "6 6 6 6 6 6 \n",
      "\n",
      "7 7 7 7 7 7 7 \n",
      "\n",
      "8 8 8 8 8 8 8 8 \n",
      "\n",
      "9 9 9 9 9 9 9 9 9 \n",
      "\n"
     ]
    }
   ],
   "source": [
    "#Print the following pattern\n",
    "for num in range(10):\n",
    "    for i in range(num):\n",
    "        print(num , end= \" \")\n",
    "    print(\"\\n\")"
   ]
  },
  {
   "cell_type": "code",
   "execution_count": 2,
   "id": "b13370ec",
   "metadata": {},
   "outputs": [
    {
     "name": "stdout",
     "output_type": "stream",
     "text": [
      "Enter the number121\n",
      "the given number is a palindrome number\n"
     ]
    }
   ],
   "source": [
    "#Write a program to check if the given number is a palindrome number.\n",
    "num = input(\"Enter the number\")\n",
    "reverse_num = str(num[::-1])\n",
    "if ( num == reverse_num):\n",
    "    print(\"the given number is a palindrome number\")\n",
    "else:\n",
    "    print(\"the given number is not a palindrome\")"
   ]
  },
  {
   "cell_type": "code",
   "execution_count": 4,
   "id": "738de8e1",
   "metadata": {},
   "outputs": [
    {
     "data": {
      "text/plain": [
       "[13, 15, 17, 19, 10, 20, 30, 78]"
      ]
     },
     "execution_count": 4,
     "metadata": {},
     "output_type": "execute_result"
    }
   ],
   "source": [
    "#Given a two list of numbers, write a program to create a new list such that the new list should contain odd numbers from the \n",
    "#first list and even numbers from the second list.\n",
    "\n",
    "def new_list(list1 , list2):\n",
    "    result_list = []\n",
    "    for num in list1:\n",
    "        if num%2 != 0:\n",
    "            result_list.append(num)\n",
    "    for num in list2:\n",
    "        if num % 2 == 0:\n",
    "            result_list.append(num)\n",
    "    return result_list\n",
    "list1 = [12,13,14,15,17,19,20]\n",
    "list2 = [10,20,30,78,65,45,43]\n",
    "new_list(list1,list2)"
   ]
  },
  {
   "cell_type": "code",
   "execution_count": 9,
   "id": "5f3a5cfd",
   "metadata": {},
   "outputs": [
    {
     "data": {
      "text/plain": [
       "[10, 8, 7, 6, 5, 4, 3, 2, 1]"
      ]
     },
     "execution_count": 9,
     "metadata": {},
     "output_type": "execute_result"
    }
   ],
   "source": [
    "#Write a Program to extract each digit from an integer in the reverse order.\n",
    "l = [1,2,3,4,5,6,7,8,10]\n",
    "data = l[::-1]\n",
    "data"
   ]
  },
  {
   "cell_type": "code",
   "execution_count": 10,
   "id": "bdb4ad00",
   "metadata": {},
   "outputs": [
    {
     "name": "stdout",
     "output_type": "stream",
     "text": [
      "4 3 2 1 "
     ]
    }
   ],
   "source": [
    "#Write a Program to extract each digit from an integer in the reverse order.\n",
    "num = 1234\n",
    "while num > 0:\n",
    "    digit = num %10\n",
    "    num = num // 10\n",
    "    print(digit , end = \" \")"
   ]
  },
  {
   "cell_type": "code",
   "execution_count": 16,
   "id": "3ddc90f0",
   "metadata": {},
   "outputs": [
    {
     "name": "stdout",
     "output_type": "stream",
     "text": [
      "1 2 3 4 5 6 7 8 9 10 \t\t\n",
      "2 4 6 8 10 12 14 16 18 20 \t\t\n",
      "3 6 9 12 15 18 21 24 27 30 \t\t\n",
      "4 8 12 16 20 24 28 32 36 40 \t\t\n",
      "5 10 15 20 25 30 35 40 45 50 \t\t\n",
      "6 12 18 24 30 36 42 48 54 60 \t\t\n",
      "7 14 21 28 35 42 49 56 63 70 \t\t\n",
      "8 16 24 32 40 48 56 64 72 80 \t\t\n",
      "9 18 27 36 45 54 63 72 81 90 \t\t\n",
      "10 20 30 40 50 60 70 80 90 100 \t\t\n"
     ]
    }
   ],
   "source": [
    "#Print multiplication table form 1 to 10\n",
    "for i in range(1,11):\n",
    "    for j in range(1,11):\n",
    "        print(i*j , end = \" \" )\n",
    "    print(\"\\t\\t\")"
   ]
  },
  {
   "cell_type": "code",
   "execution_count": 22,
   "id": "8dd88a9b",
   "metadata": {},
   "outputs": [
    {
     "name": "stdout",
     "output_type": "stream",
     "text": [
      "* * * * *  \n",
      "* * * *  \n",
      "* * *  \n",
      "* *  \n",
      "*  \n",
      " \n"
     ]
    }
   ],
   "source": [
    "# Print downward Half-Pyramid Pattern with Star (asterisk)\n",
    "for i in range(6,0,-1):\n",
    "    for j in range(0,i-1):\n",
    "        print(\"*\" , end = \" \")\n",
    "    print(\" \")"
   ]
  },
  {
   "cell_type": "code",
   "execution_count": 23,
   "id": "39b6fad6",
   "metadata": {},
   "outputs": [
    {
     "name": "stdout",
     "output_type": "stream",
     "text": [
      "625\n"
     ]
    }
   ],
   "source": [
    "#Write a function called exponent(base, exp) that returns an int value of base raises to the power of exp.\n",
    "def exponent(base,exp):\n",
    "    num = exp\n",
    "    result = 1\n",
    "    while num > 0:\n",
    "        result = result * base\n",
    "        num = num - 1\n",
    "    print(result)\n",
    "exponent(5,4)\n",
    "    "
   ]
  },
  {
   "cell_type": "code",
   "execution_count": null,
   "id": "53d29636",
   "metadata": {},
   "outputs": [],
   "source": []
  }
 ],
 "metadata": {
  "kernelspec": {
   "display_name": "Python 3 (ipykernel)",
   "language": "python",
   "name": "python3"
  },
  "language_info": {
   "codemirror_mode": {
    "name": "ipython",
    "version": 3
   },
   "file_extension": ".py",
   "mimetype": "text/x-python",
   "name": "python",
   "nbconvert_exporter": "python",
   "pygments_lexer": "ipython3",
   "version": "3.11.3"
  }
 },
 "nbformat": 4,
 "nbformat_minor": 5
}
