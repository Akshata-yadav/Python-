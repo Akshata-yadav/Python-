{
 "cells": [
  {
   "cell_type": "code",
   "execution_count": 2,
   "id": "98510813",
   "metadata": {},
   "outputs": [
    {
     "name": "stdout",
     "output_type": "stream",
     "text": [
      "[1, 3, 5, 7, 9, 2, 4, 6, 8, 10]\n"
     ]
    }
   ],
   "source": [
    "#Create a list by picking an odd-index items from the first list and even index items from the second\n",
    "l1 = [1,2,3,4,5,6,7,8,9,10]\n",
    "l2 = [1,2,3,4,5,6,7,8,9,10]\n",
    "res = []\n",
    "for i in l1:\n",
    "    if(i % 2 != 0):\n",
    "        res.append(i)\n",
    "for j in l2:\n",
    "    if(j % 2 == 0):\n",
    "        res.append(j)\n",
    "print(res)"
   ]
  },
  {
   "cell_type": "code",
   "execution_count": 7,
   "id": "ccc28e23",
   "metadata": {},
   "outputs": [
    {
     "name": "stdout",
     "output_type": "stream",
     "text": [
      "Original list  [34, 54, 67, 89, 11, 43, 94]\n",
      "List After removing element at index 4  [34, 54, 67, 89, 43, 94]\n",
      "List after Adding element at index 2  [34, 54, 11, 67, 89, 43, 94]\n",
      "List after Adding element at last  [34, 54, 11, 67, 89, 43, 94, 11]\n"
     ]
    }
   ],
   "source": [
    "#Write a program to remove the item present at index 4 and add it to the 2nd position and at the end of the list.\n",
    "sample_list = [34, 54, 67, 89, 11, 43, 94]\n",
    "\n",
    "print(\"Original list \", sample_list)\n",
    "element = sample_list.pop(4)\n",
    "print(\"List After removing element at index 4 \", sample_list)\n",
    "\n",
    "sample_list.insert(2, element)\n",
    "print(\"List after Adding element at index 2 \", sample_list)\n",
    "\n",
    "sample_list.append(element)\n",
    "print(\"List after Adding element at last \", sample_list)"
   ]
  },
  {
   "cell_type": "code",
   "execution_count": 15,
   "id": "23581e03",
   "metadata": {},
   "outputs": [
    {
     "name": "stdout",
     "output_type": "stream",
     "text": [
      "Original list  [11, 45, 8, 23, 14, 12, 78, 45, 89]\n",
      "Chunk  0 [11, 45, 8]\n",
      "After reversing it  [8, 45, 11]\n",
      "Chunk  1 [23, 14, 12]\n",
      "After reversing it  [12, 14, 23]\n",
      "Chunk  2 [78, 45, 89]\n",
      "After reversing it  [89, 45, 78]\n"
     ]
    }
   ],
   "source": [
    "#Slice list into 3 equal chunks and reverse each chunk\n",
    "sample_list = [11, 45, 8, 23, 14, 12, 78, 45, 89]\n",
    "print(\"Original list \", sample_list)\n",
    "\n",
    "length = len(sample_list)\n",
    "chunk_size = int(length / 3)\n",
    "start = 0\n",
    "end = chunk_size\n",
    "\n",
    "# run loop 3 times\n",
    "for i in range(3):\n",
    "    # get indexes\n",
    "    indexes = slice(start, end)\n",
    "    \n",
    "    # get chunk\n",
    "    list_chunk = sample_list[indexes]\n",
    "    print(\"Chunk \", i, list_chunk)\n",
    "    \n",
    "    # reverse chunk\n",
    "    print(\"After reversing it \", list(reversed(list_chunk)))\n",
    "\n",
    "    start = end\n",
    "    end += chunk_size\n"
   ]
  },
  {
   "cell_type": "code",
   "execution_count": 16,
   "id": "fcb0608b",
   "metadata": {},
   "outputs": [
    {
     "data": {
      "text/plain": [
       "{(2, 54), (3, 32), (12, 78), (45, 12), (56, 34)}"
      ]
     },
     "execution_count": 16,
     "metadata": {},
     "output_type": "execute_result"
    }
   ],
   "source": [
    "#Create a Python set such that it shows the element from both lists in a pair\n",
    "l1 = [12,2,3,45,56,78]\n",
    "l2 = [78,54,32,12,34]\n",
    "result = zip(l1,l2)\n",
    "set_result = set(result)\n",
    "set_result"
   ]
  },
  {
   "cell_type": "code",
   "execution_count": 20,
   "id": "7c6cce5a",
   "metadata": {},
   "outputs": [
    {
     "name": "stdout",
     "output_type": "stream",
     "text": [
      "{67, 23, 9, 45}\n",
      "{67, 23, 9}\n",
      "{67, 9}\n"
     ]
    }
   ],
   "source": [
    "#Find the intersection (common) of two sets and remove those elements from the first set\n",
    "s1 = {12,23,45,67,9}\n",
    "s2 = {90,23,12,45,89}\n",
    "res = s1.intersection(s2)\n",
    "res\n",
    "for i in res:\n",
    "    s1.remove(i)\n",
    "    print(s1)"
   ]
  },
  {
   "cell_type": "code",
   "execution_count": 28,
   "id": "b40a9ac6",
   "metadata": {},
   "outputs": [
    {
     "name": "stdout",
     "output_type": "stream",
     "text": [
      "First Set  {34, 67, 23, 12, 45}\n",
      "Second Set  {12, 23}\n",
      "First set is subset of second set - False\n",
      "Second set is subset of First set -  True\n",
      "First set is Super set of second set -  True\n",
      "Second set is Super set of First set -  False\n",
      "{34, 67, 23, 12, 45}\n",
      "set()\n"
     ]
    }
   ],
   "source": [
    "#Checks if one set is a subset or superset of another set. If found, delete all elements from that set\n",
    "s1 = {12,23,34,45,67}\n",
    "s2 = {12,23}\n",
    "print(\"First Set \", s1)\n",
    "print(\"Second Set \", s2)\n",
    "\n",
    "print(\"First set is subset of second set -\", s1.issubset(s2))\n",
    "print(\"Second set is subset of First set - \", s2.issubset(s1))\n",
    "\n",
    "print(\"First set is Super set of second set - \", s1.issuperset(s2))\n",
    "print(\"Second set is Super set of First set - \", s2.issuperset(s1))\n",
    "\n",
    "\n",
    "if s2.issubset(s1):\n",
    "    s2.clear()\n",
    "if s1.issubset(s2):\n",
    "    s1.clear()\n",
    "print(s1)\n",
    "print(s2)"
   ]
  },
  {
   "cell_type": "code",
   "execution_count": 29,
   "id": "860debfd",
   "metadata": {},
   "outputs": [
    {
     "data": {
      "text/plain": [
       "[47, 69, 76, 97]"
      ]
     },
     "execution_count": 29,
     "metadata": {},
     "output_type": "execute_result"
    }
   ],
   "source": [
    "#Iterate a given list and check if a given element exists as a key’s value in a dictionary.\n",
    "#If not, delete it from the list\n",
    "roll_number = [47, 64, 69, 37, 76, 83, 95, 97]\n",
    "sample_dict = {'Jhon':47, 'Emma':69, 'Kelly':76, 'Jason':97}\n",
    "result = []\n",
    "for i in roll_number:\n",
    "    if i in sample_dict.values():\n",
    "        result.append(i)\n",
    "result"
   ]
  },
  {
   "cell_type": "code",
   "execution_count": 31,
   "id": "e203c235",
   "metadata": {},
   "outputs": [
    {
     "data": {
      "text/plain": [
       "[47, 52, 44, 53, 54]"
      ]
     },
     "execution_count": 31,
     "metadata": {},
     "output_type": "execute_result"
    }
   ],
   "source": [
    "#Get all values from the dictionary and add them to a list but don’t add duplicates\n",
    "speed = {'jan': 47, 'feb': 52, 'march': 47, 'April': 44, 'May': 52, 'June': 53,\n",
    "         'july': 54, 'Aug': 44, 'Sept': 54}\n",
    "new_list = []\n",
    "for i in speed.values():\n",
    "    if i not in new_list:\n",
    "        new_list.append(i)\n",
    "new_list"
   ]
  },
  {
   "cell_type": "code",
   "execution_count": 37,
   "id": "64c3bf23",
   "metadata": {},
   "outputs": [
    {
     "name": "stdout",
     "output_type": "stream",
     "text": [
      "original list [87, 45, 41, 65, 94, 41, 99, 94, 90, 90, 98, 99, 41, 87, 87]\n",
      "removing duplicate values {65, 98, 99, 41, 45, 87, 90, 94}\n",
      "tuple creation (65, 98, 99, 41, 45, 87, 90, 94)\n",
      "99\n",
      "41\n"
     ]
    }
   ],
   "source": [
    "#Remove duplicates from a list and create a tuple and find the minimum and maximum number\n",
    "sample_list = [87, 45, 41, 65, 94, 41, 99, 94,90,90,98,99,41,87,87]\n",
    "print(\"original list\" ,sample_list)\n",
    "duplicate_removal  = set(sample_list)\n",
    "print(\"removing duplicate values\", duplicate_removal)\n",
    "t1 = tuple(duplicate_removal)\n",
    "print(\"tuple creation\", t1)\n",
    "print(max(t1))\n",
    "print(min(t1))"
   ]
  }
 ],
 "metadata": {
  "kernelspec": {
   "display_name": "Python 3 (ipykernel)",
   "language": "python",
   "name": "python3"
  },
  "language_info": {
   "codemirror_mode": {
    "name": "ipython",
    "version": 3
   },
   "file_extension": ".py",
   "mimetype": "text/x-python",
   "name": "python",
   "nbconvert_exporter": "python",
   "pygments_lexer": "ipython3",
   "version": "3.11.3"
  }
 },
 "nbformat": 4,
 "nbformat_minor": 5
}
