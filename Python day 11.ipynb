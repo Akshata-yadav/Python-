{
 "cells": [
  {
   "cell_type": "code",
   "execution_count": 2,
   "id": "fb74a136",
   "metadata": {},
   "outputs": [
    {
     "name": "stdout",
     "output_type": "stream",
     "text": [
      "2023-08-13 10:59:24.957021\n",
      "10:59:24.958019\n"
     ]
    }
   ],
   "source": [
    "# Print current date and time in Python\n",
    "import datetime\n",
    "print(datetime.datetime.now())\n",
    "print(datetime.datetime.now().time())"
   ]
  },
  {
   "cell_type": "code",
   "execution_count": 6,
   "id": "8c21a002",
   "metadata": {},
   "outputs": [
    {
     "data": {
      "text/plain": [
       "datetime.datetime(2020, 2, 25, 16, 20)"
      ]
     },
     "execution_count": 6,
     "metadata": {},
     "output_type": "execute_result"
    }
   ],
   "source": [
    "#Convert string into a datetime object\n",
    "date_string = \"Feb 25 2020 4:20PM\"\n",
    "from datetime import datetime\n",
    "date_string = \"Feb 25 2020 4:20PM\"\n",
    "datetime_object = datetime.strptime(date_string , '%b %d %Y %I:%M%p')\n",
    "datetime_object"
   ]
  },
  {
   "cell_type": "code",
   "execution_count": 7,
   "id": "d33a3cf7",
   "metadata": {},
   "outputs": [],
   "source": [
    "#Subtract a week (7 days)  from a given date in Python"
   ]
  },
  {
   "cell_type": "code",
   "execution_count": 8,
   "id": "4397161f",
   "metadata": {},
   "outputs": [
    {
     "name": "stdout",
     "output_type": "stream",
     "text": [
      "Given date\n",
      "2020-02-25 00:00:00\n",
      "New Date\n",
      "2020-02-18 00:00:00\n"
     ]
    }
   ],
   "source": [
    "from datetime import datetime, timedelta\n",
    "\n",
    "given_date = datetime(2020, 2, 25)\n",
    "print(\"Given date\")\n",
    "print(given_date)\n",
    "\n",
    "days_to_subtract = 7\n",
    "res_date = given_date - timedelta(days=days_to_subtract)\n",
    "print(\"New Date\")\n",
    "print(res_date)"
   ]
  },
  {
   "cell_type": "code",
   "execution_count": 9,
   "id": "959e3fa3",
   "metadata": {},
   "outputs": [
    {
     "name": "stdout",
     "output_type": "stream",
     "text": [
      "Given date is\n",
      "Tuesday 25 February 2020\n"
     ]
    }
   ],
   "source": [
    "# Print a date in a the following format\n",
    "from datetime import datetime\n",
    "\n",
    "given_date = datetime(2020, 2, 25)\n",
    "print(\"Given date is\")\n",
    "print(given_date.strftime('%A %d %B %Y'))"
   ]
  },
  {
   "cell_type": "code",
   "execution_count": 10,
   "id": "0dd4201a",
   "metadata": {},
   "outputs": [
    {
     "name": "stdout",
     "output_type": "stream",
     "text": [
      "6\n",
      "Sunday\n"
     ]
    }
   ],
   "source": [
    "#Find the day of the week of a given date\n",
    "from datetime import datetime\n",
    "\n",
    "given_date = datetime(2020, 7, 26)\n",
    "\n",
    "# to get weekday as integer\n",
    "print(given_date.today().weekday())\n",
    "\n",
    "# To get the english name of the weekday\n",
    "print(given_date.strftime('%A'))"
   ]
  },
  {
   "cell_type": "code",
   "execution_count": 11,
   "id": "dbb0bdb2",
   "metadata": {},
   "outputs": [
    {
     "name": "stdout",
     "output_type": "stream",
     "text": [
      "Given date\n",
      "2020-03-22 10:00:00\n",
      "New Date\n",
      "2020-03-29 22:00:00\n"
     ]
    }
   ],
   "source": [
    "#Add a week (7 days) and 12 hours to a given date\n",
    "from datetime import datetime, timedelta\n",
    "\n",
    "given_date = datetime(2020, 3, 22, 10, 00, 00)\n",
    "print(\"Given date\")\n",
    "print(given_date)\n",
    "\n",
    "days_to_add = 7\n",
    "res_date = given_date + timedelta(days=days_to_add, hours=12)\n",
    "print(\"New Date\")\n",
    "print(res_date)"
   ]
  },
  {
   "cell_type": "code",
   "execution_count": 12,
   "id": "90ca77b1",
   "metadata": {},
   "outputs": [
    {
     "name": "stdout",
     "output_type": "stream",
     "text": [
      "2020-02-25 00:00:00\n"
     ]
    }
   ],
   "source": [
    "#Print current time in milliseconds\n",
    "from datetime import datetime\n",
    "\n",
    "given_date = datetime(2020, 2, 25)\n",
    "string_date = given_date.strftime(\"%Y-%m-%d %H:%M:%S\")\n",
    "print(string_date)"
   ]
  }
 ],
 "metadata": {
  "kernelspec": {
   "display_name": "Python 3 (ipykernel)",
   "language": "python",
   "name": "python3"
  },
  "language_info": {
   "codemirror_mode": {
    "name": "ipython",
    "version": 3
   },
   "file_extension": ".py",
   "mimetype": "text/x-python",
   "name": "python",
   "nbconvert_exporter": "python",
   "pygments_lexer": "ipython3",
   "version": "3.11.3"
  }
 },
 "nbformat": 4,
 "nbformat_minor": 5
}
